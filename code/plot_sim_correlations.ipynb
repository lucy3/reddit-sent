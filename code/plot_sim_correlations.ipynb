{
 "cells": [
  {
   "cell_type": "code",
   "execution_count": 1,
   "metadata": {},
   "outputs": [],
   "source": [
    "import csv\n",
    "from scipy.stats import mode, spearmanr\n",
    "import numpy as np\n",
    "from collections import defaultdict\n",
    "from matplotlib import pyplot as plt\n",
    "import pandas as pd"
   ]
  },
  {
   "cell_type": "code",
   "execution_count": 8,
   "metadata": {},
   "outputs": [],
   "source": [
    "df = pd.read_csv('similarities/combined_no_london.csv') #USER TEXT SENT"
   ]
  },
  {
   "cell_type": "code",
   "execution_count": 9,
   "metadata": {},
   "outputs": [
    {
     "name": "stdout",
     "output_type": "stream",
     "text": [
      "TEXT vs USER\n",
      "SpearmanrResult(correlation=0.42676962676962676, pvalue=0.009439280729464792)\n",
      "TEXT vs SENT\n",
      "SpearmanrResult(correlation=0.6298584298584299, pvalue=3.85270901695852e-05)\n",
      "USER vs SENT\n",
      "SpearmanrResult(correlation=0.4517374517374517, pvalue=0.005680202061046634)\n"
     ]
    }
   ],
   "source": [
    "#Text User\n",
    "print \"TEXT vs USER\"\n",
    "print spearmanr(df['TEXT'],df['USER'])\n",
    "print \"TEXT vs SENT\"\n",
    "print spearmanr(df['TEXT'],df['SENT'])\n",
    "print \"USER vs SENT\"\n",
    "print spearmanr(df['USER'],df['SENT'])\n",
    "\n"
   ]
  },
  {
   "cell_type": "code",
   "execution_count": 16,
   "metadata": {},
   "outputs": [
    {
     "data": {
      "image/png": "[encoded data removed]",
      "text/plain": [
       "<matplotlib.figure.Figure at 0x1a17e2c7d0>"
      ]
     },
     "metadata": {},
     "output_type": "display_data"
    }
   ],
   "source": [
    "plt.scatter(df['TEXT'], df['USER'],alpha=0.7)\n",
    "plt.xlabel('text similarity')\n",
    "plt.ylabel('user similarity')\n",
    "plt.show()"
   ]
  },
  {
   "cell_type": "code",
   "execution_count": 17,
   "metadata": {},
   "outputs": [
    {
     "data": {
      "image/png": "[encoded data removed]",
      "text/plain": [
       "<matplotlib.figure.Figure at 0x1a17bbe550>"
      ]
     },
     "metadata": {},
     "output_type": "display_data"
    }
   ],
   "source": [
    "plt.scatter(df['TEXT'], df['SENT'],alpha=0.7)\n",
    "plt.xlabel('text similarity')\n",
    "plt.ylabel('sentiment similarity')\n",
    "plt.show()"
   ]
  },
  {
   "cell_type": "code",
   "execution_count": 18,
   "metadata": {},
   "outputs": [
    {
     "data": {
      "image/png": "[encoded data removed]",
      "text/plain": [
       "<matplotlib.figure.Figure at 0x1a180e14d0>"
      ]
     },
     "metadata": {},
     "output_type": "display_data"
    }
   ],
   "source": [
    "plt.scatter(df['SENT'], df['USER'],alpha=0.7)\n",
    "plt.xlabel('sentiment similarity')\n",
    "plt.ylabel('user similarity')\n",
    "plt.show()"
   ]
  },
  {
   "cell_type": "code",
   "execution_count": 5,
   "metadata": {},
   "outputs": [],
   "source": [
    "import glob\n",
    "import os\n",
    "\n",
    "lexicon_files = glob.glob('socialsent_lexicons_ppmi_svd_top5000/*.txt')"
   ]
  },
  {
   "cell_type": "code",
   "execution_count": null,
   "metadata": {},
   "outputs": [],
   "source": []
  },
  {
   "cell_type": "code",
   "execution_count": 41,
   "metadata": {},
   "outputs": [],
   "source": [
    "def normalize_lexicon(f):\n",
    "    sent_dict = {}\n",
    "    scaled_sent_dict = {}\n",
    "    with open(f,'r') as f:\n",
    "        tsvin = csv.reader(f,delimiter='\\t')\n",
    "        for line in tsvin:\n",
    "            sent_dict[line[0]] = float(line[1])\n",
    "    words_ordered = sorted(sent_dict.keys())\n",
    "    sents_ordered = [sent_dict[w] for w in words_ordered]\n",
    "    sents_ordered_norm = preprocessing.scale(sents_ordered)\n",
    "\n",
    "    for i in range(len(words_ordered)):\n",
    "        w = words_ordered[i]\n",
    "        scaled_sent_dict[w] = float(sents_ordered_norm[i])\n",
    "    return scaled_sent_dict"
   ]
  },
  {
   "cell_type": "code",
   "execution_count": 49,
   "metadata": {},
   "outputs": [],
   "source": [
    "def get_sentiments(word):\n",
    "    x = []\n",
    "    for f in lexicon_files:\n",
    "        subreddit = os.path.basename(f)[:-4]\n",
    "        scaled_sent_dict = normalize_lexicon(f)\n",
    "        if word in scaled_sent_dict:\n",
    "            x.append((scaled_sent_dict[word],subreddit))\n",
    "    for elem in sorted(x,reverse=True):\n",
    "        print elem\n",
    "    return x"
   ]
  },
  {
   "cell_type": "code",
   "execution_count": 50,
   "metadata": {},
   "outputs": [
    {
     "name": "stdout",
     "output_type": "stream",
     "text": [
      "(3.124067931138336, 'femalefashionadvice')\n",
      "(3.1093152736088885, 'xxfitness')\n",
      "(2.7592259021495735, 'askwomen')\n",
      "(2.580427550780781, 'actuallesbians')\n",
      "(2.476668823978308, 'askmen')\n",
      "(2.384723094316671, 'askgaybros')\n",
      "(1.7868368514867194, 'malefashionadvice')\n",
      "(1.7702725873116825, 'trollxchromosomes')\n",
      "(1.7570752035954156, 'mensrights')\n",
      "(-0.019807003763082098, 'london')\n"
     ]
    }
   ],
   "source": [
    "get_sentiments('cute')"
   ]
  },
  {
   "cell_type": "code",
   "execution_count": 51,
   "metadata": {},
   "outputs": [
    {
     "name": "stdout",
     "output_type": "stream",
     "text": [
      "(0.6356754605075572, 'malefashionadvice')\n",
      "(0.37103126465742015, 'xxfitness')\n",
      "(0.3528587216118132, 'askgaybros')\n",
      "(0.24876713409156756, 'femalefashionadvice')\n",
      "(-0.16032303110658672, 'trollxchromosomes')\n",
      "(-0.17447768796816646, 'actuallesbians')\n",
      "(-0.29402104105870996, 'askmen')\n",
      "(-0.4017470438520445, 'askwomen')\n",
      "(-0.651250947782725, 'london')\n",
      "(-0.7255974127914688, 'mensrights')\n"
     ]
    }
   ],
   "source": [
    "get_sentiments('women')"
   ]
  },
  {
   "cell_type": "code",
   "execution_count": 74,
   "metadata": {},
   "outputs": [
    {
     "name": "stdout",
     "output_type": "stream",
     "text": [
      "(0.09908012724247738, 'askmen')\n",
      "(-0.19873284422426785, 'trollxchromosomes')\n",
      "(-0.2827616704438157, 'askwomen')\n",
      "(-2.18073697729723, 'actuallesbians')\n",
      "(-2.434560146916325, 'mensrights')\n"
     ]
    }
   ],
   "source": [
    "get_sentiments('feminists')"
   ]
  },
  {
   "cell_type": "code",
   "execution_count": 69,
   "metadata": {},
   "outputs": [
    {
     "name": "stdout",
     "output_type": "stream",
     "text": [
      "(2.5872423172558494, 'mensrights')\n",
      "(1.8938465643982412, 'trollxchromosomes')\n",
      "(1.6279230841584653, 'actuallesbians')\n",
      "(1.5435805506151712, 'xxfitness')\n",
      "(0.9401412166728735, 'femalefashionadvice')\n",
      "(0.5936212853089565, 'malefashionadvice')\n",
      "(0.3623513533780337, 'askgaybros')\n",
      "(-0.29871962041350797, 'london')\n",
      "(-0.39413230708001307, 'askmen')\n",
      "(-0.5029770806815019, 'askwomen')\n"
     ]
    }
   ],
   "source": [
    "get_sentiments('ladies')"
   ]
  },
  {
   "cell_type": "code",
   "execution_count": 75,
   "metadata": {},
   "outputs": [
    {
     "name": "stdout",
     "output_type": "stream",
     "text": [
      "(3.124067931138336, 'femalefashionadvice')\n",
      "(3.1093152736088885, 'xxfitness')\n",
      "(2.7592259021495735, 'askwomen')\n",
      "(2.580427550780781, 'actuallesbians')\n",
      "(2.476668823978308, 'askmen')\n",
      "(2.384723094316671, 'askgaybros')\n",
      "(1.7868368514867194, 'malefashionadvice')\n",
      "(1.7702725873116825, 'trollxchromosomes')\n",
      "(1.7570752035954156, 'mensrights')\n",
      "(-0.019807003763082098, 'london')\n"
     ]
    }
   ],
   "source": [
    "get_sentiments('cute')"
   ]
  },
  {
   "cell_type": "code",
   "execution_count": 134,
   "metadata": {},
   "outputs": [
    {
     "data": {
      "image/png": "[encoded data removed]",
      "text/plain": [
       "<matplotlib.figure.Figure at 0x1a17f97610>"
      ]
     },
     "metadata": {},
     "output_type": "display_data"
    }
   ],
   "source": [
    "n_groups = 1\n",
    "#femalefashioadvice,xxfitness,trollxchromosomes,mensrights\n",
    "\n",
    "ffa = (3.124067931138336)\n",
    "xx = (3.1093152736088885)\n",
    "troll = (1.7702725873116825)\n",
    "men = (1.7570752035954156)\n",
    "\n",
    "# means_men = (20, 35, 30, 35, 27)\n",
    "# std_men = (2, 3, 4, 1, 2)\n",
    "\n",
    "# means_women = (25, 32, 34, 20, 25)\n",
    "# std_women = (3, 5, 2, 3, 3)\n",
    "\n",
    "fig, ax = plt.subplots()\n",
    "fig.subplots_adjust(bottom=0.24) # <-- Change the 0.02 to work for your plot.\n",
    "\n",
    "index = np.arange(n_groups)\n",
    "bar_width = 0.35\n",
    "\n",
    "opacity = 0.4\n",
    "error_config = {'ecolor': '0.3'}\n",
    "\n",
    "rects1 = ax.bar(index, ffa, bar_width,\n",
    "                alpha=opacity, color='b',\n",
    "                \n",
    "                label='FemaleFashionAdvice')\n",
    "\n",
    "rects2 = ax.bar(index + bar_width, xx, bar_width,\n",
    "                alpha=opacity, color='r',\n",
    "\n",
    "                label='XXFitness')\n",
    "\n",
    "rects2 = ax.bar(index + 2*bar_width, troll, bar_width,\n",
    "                alpha=opacity, color='purple',\n",
    "                \n",
    "                label='TrollXChromosomes')\n",
    "\n",
    "rects2 = ax.bar(index + 3*bar_width, men, bar_width,\n",
    "                alpha=opacity, color='g',\n",
    "                \n",
    "                label='Men\\'s Rights')\n",
    "\n",
    "ax.set_xlabel('Subreddit',fontsize=12)\n",
    "ax.set_ylabel('Score',fontsize=12)\n",
    "ax.set_title('Sentiment of \"cute\" by subreddit')\n",
    "#ax.set_xticks(index + bar_width / 2)\n",
    "ax.set_xticklabels(())\n",
    "ax.xaxis.set_ticks_position('none') \n",
    "\n",
    "ax.legend(loc=9, bbox_to_anchor=(0.5, -0.1), ncol=2,fontsize=10)\n",
    "\n",
    "#fig.tight_layout()\n",
    "plt.savefig('sentiment_cute.pdf')\n",
    "plt.show()\n"
   ]
  },
  {
   "cell_type": "code",
   "execution_count": 108,
   "metadata": {},
   "outputs": [
    {
     "name": "stdout",
     "output_type": "stream",
     "text": [
      "(2.5872423172558494, 'mensrights')\n",
      "(1.8938465643982412, 'trollxchromosomes')\n",
      "(1.6279230841584653, 'actuallesbians')\n",
      "(1.5435805506151712, 'xxfitness')\n",
      "(0.9401412166728735, 'femalefashionadvice')\n",
      "(0.5936212853089565, 'malefashionadvice')\n",
      "(0.3623513533780337, 'askgaybros')\n",
      "(-0.29871962041350797, 'london')\n",
      "(-0.39413230708001307, 'askmen')\n",
      "(-0.5029770806815019, 'askwomen')\n"
     ]
    }
   ],
   "source": [
    "get_sentiments('ladies')"
   ]
  },
  {
   "cell_type": "code",
   "execution_count": 130,
   "metadata": {},
   "outputs": [
    {
     "data": {
      "image/png": "[encoded data removed]",
      "text/plain": [
       "<matplotlib.figure.Figure at 0x1a17de0890>"
      ]
     },
     "metadata": {},
     "output_type": "display_data"
    }
   ],
   "source": [
    "n_groups = 3\n",
    "#femalefashioadvice,xxfitness,trollxchromosomes,mensrights\n",
    "\n",
    "askmen = (-0.29402104105870996,0.09908012724247738,-0.39413230708001307)\n",
    "act = (-0.17447768796816646,-2.18073697729723,1.6279230841584653)\n",
    "men = (-0.7255974127914688,-2.434560146916325,2.5872423172558494)\n",
    "\n",
    "\n",
    "fig, ax = plt.subplots()\n",
    "fig.subplots_adjust(bottom=0.24) # <-- Change the 0.02 to work for your plot.\n",
    "\n",
    "index = np.arange(n_groups)\n",
    "bar_width = 0.3\n",
    "\n",
    "opacity = 0.4\n",
    "error_config = {'ecolor': '0.3'}\n",
    "\n",
    "rects1 = ax.bar(index, askmen, bar_width,\n",
    "                alpha=opacity, color='b',\n",
    "                label='AskMen')\n",
    "\n",
    "rects2 = ax.bar(index + bar_width, act, bar_width,\n",
    "                alpha=opacity, color='r',\n",
    "\n",
    "                label='ActualLesbians')\n",
    "\n",
    "rects3 = ax.bar(index + 2*bar_width, men, bar_width,\n",
    "                alpha=opacity, color='g',\n",
    "                \n",
    "                label=\"Men\\'s Rights\")\n",
    "\n",
    "\n",
    "#ax.set_xlabel('Subreddit')\n",
    "ax.axhline(0, color='black',lw=1)\n",
    "\n",
    "ax.set_ylabel('Score',fontsize=12)\n",
    "ax.set_title('Sentiment of women-related words by subreddit',fontsize=14)\n",
    "ax.set_xticks(index + bar_width)\n",
    "ax.set_xticklabels(('women','feminists','ladies'),fontsize=12)\n",
    "ax.xaxis.set_ticks_position('none') \n",
    "\n",
    "ax.legend(loc=9, bbox_to_anchor=(0.5, -0.1), ncol=2,fontsize=10)\n",
    "\n",
    "#fig.tight_layout()\n",
    "plt.savefig('sentiment_women.pdf')\n",
    "plt.show()\n"
   ]
  },
  {
   "cell_type": "code",
   "execution_count": null,
   "metadata": {},
   "outputs": [],
   "source": []
  }
 ],
 "metadata": {
  "kernelspec": {
   "display_name": "Python 2",
   "language": "python",
   "name": "python2"
  },
  "language_info": {
   "codemirror_mode": {
    "name": "ipython",
    "version": 2
   },
   "file_extension": ".py",
   "mimetype": "text/x-python",
   "name": "python",
   "nbconvert_exporter": "python",
   "pygments_lexer": "ipython2",
   "version": "2.7.11"
  }
 },
 "nbformat": 4,
 "nbformat_minor": 2
}
